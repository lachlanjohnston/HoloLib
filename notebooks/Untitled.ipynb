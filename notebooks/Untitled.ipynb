{
 "cells": [
  {
   "cell_type": "code",
   "execution_count": 1,
   "metadata": {},
   "outputs": [],
   "source": [
    "import numpy as np"
   ]
  },
  {
   "cell_type": "markdown",
   "metadata": {},
   "source": [
    "std::vector<cwoVect> Sphere::sample_pls(int samples) {\n",
    "\tstd::vector<cwoVect> ps;\n",
    "\n",
    "\tstd::default_random_engine generator;\n",
    "\tstd::uniform_real_distribution<float> dist(0, 1);\n",
    "\n",
    "\tfor (int k = 0; k < samples; k++) {\n",
    "\t\tfloat i = dist(generator);\n",
    "\t\tfloat j = dist(generator);\n",
    "\n",
    "\t\tfloat theta = 2 * CWO_PI * i;\n",
    "\t\tfloat phi = acos(2 * j - 1);\n",
    "\n",
    "\t\tfloat x = cos(theta) * sin(phi);\n",
    "\t\tfloat y = sin(theta) * sin(phi);\n",
    "\t\tfloat z = cos(phi);\n",
    "\n",
    "\t\tps.push_back(cwoVect(x, y, z));\n",
    "\t}\n",
    "\n",
    "\treturn ps;\n",
    "}"
   ]
  },
  {
   "cell_type": "code",
   "execution_count": 69,
   "metadata": {},
   "outputs": [],
   "source": [
    "def generate_sphere(samples, z):\n",
    "    \n",
    "    for i in range(samples):\n",
    "        theta = 2 * np.pi * np.random.rand()\n",
    "        phi = np.arccos(2 * np.random.rand() - 1)\n",
    "        \n",
    "        yield np.array([np.cos(theta) * \n",
    "                        np.sin(phi), np.sin(theta) *\n",
    "                        np.sin(phi), np.cos(phi)]) + [0, 0, z]"
   ]
  },
  {
   "cell_type": "code",
   "execution_count": 72,
   "metadata": {},
   "outputs": [
    {
     "data": {
      "text/plain": [
       "[array([-0.44717596,  0.62068077,  1.64404119]),\n",
       " array([ 0.53853892, -0.4156527 ,  1.7329452 ]),\n",
       " array([ 0.94753036, -0.13470722,  1.28989685]),\n",
       " array([0.28248105, 0.9340934 , 0.78165627]),\n",
       " array([0.29578889, 0.2728501 , 0.08454287]),\n",
       " array([-0.57727034, -0.81582698,  0.96557203]),\n",
       " array([ 0.73995314, -0.67144936,  0.95968745]),\n",
       " array([ 0.47956674, -0.10790231,  0.12915396]),\n",
       " array([ 0.11424597, -0.46772795,  0.12354212]),\n",
       " array([ 0.721835  , -0.29874234,  0.37573464]),\n",
       " array([ 0.39712279, -0.11721775,  1.91024913]),\n",
       " array([-0.123873  , -0.8073556 ,  0.42308371]),\n",
       " array([-0.97904893,  0.18439654,  0.91362225]),\n",
       " array([-0.80005156,  0.33722829,  1.49617998]),\n",
       " array([-0.85444333, -0.0458974 ,  0.48248669]),\n",
       " array([-0.52239371,  0.76231063,  0.61791713]),\n",
       " array([ 0.31542615, -0.89893448,  0.69598824]),\n",
       " array([0.43002716, 0.84446787, 1.31929712]),\n",
       " array([-0.94127419, -0.29408515,  0.83411801]),\n",
       " array([ 0.10656437, -0.16328043,  0.01919241])]"
      ]
     },
     "execution_count": 72,
     "metadata": {},
     "output_type": "execute_result"
    }
   ],
   "source": [
    "list(generate_sphere(20 ,1))"
   ]
  },
  {
   "cell_type": "code",
   "execution_count": 110,
   "metadata": {},
   "outputs": [],
   "source": [
    "l = 635\n",
    "k = 2 * np.pi * l\n",
    "ref = 1e-4 * np.array([0.3, 0.0, 0.3])\n",
    "\n",
    "def r(px, point):\n",
    "    return k * np.sqrt((px[0] - point[0])**2 + (px[1] - point[1])**2 + point[2]**2)\n",
    "\n",
    "def shade(p, pix):\n",
    "    n = p - np.array([0, 0, z])\n",
    "    pix = np.append(pix, 0)\n",
    "    d = np.dot(n, p - pix)\n",
    "    \n",
    "    if d > 0:\n",
    "        return d\n",
    "    else:\n",
    "        return 0.0\n",
    "\n",
    "def pls(pix, point):\n",
    "    a = shade(point, pix)\n",
    "    \n",
    "    r_p = r(pix, point)\n",
    "    \n",
    "    return (a / r_p) * np.cos(k * r_p + np.random.rand() * 2 * np.pi) # * np.cos(r(pix, point) - r(pix, ref))"
   ]
  },
  {
   "cell_type": "code",
   "execution_count": 145,
   "metadata": {},
   "outputs": [],
   "source": [
    "nx = 100\n",
    "ny = 100\n",
    "\n",
    "dx = 5e-6\n",
    "dy = 5e-6\n",
    "\n",
    "z = .5\n",
    "\n",
    "top_left = np.array([0.0 - dx * nx / 2, 0.0 + dy * ny / 2])\n",
    "\n",
    "img = np.zeros((nx, ny))\n",
    "\n",
    "sphere_samples = list(generate_sphere(50, z))\n",
    "\n",
    "for i in range(nx):\n",
    "    for j in range(ny):\n",
    "        ps = top_left + np.array([i * dx, -j * dy])\n",
    "        \n",
    "        img[i, j] += np.sum([ pls(ps, p * np.array([1e-5, 1e-5, 1e-5])) for p in sphere_samples ])\n",
    "        "
   ]
  },
  {
   "cell_type": "code",
   "execution_count": 146,
   "metadata": {},
   "outputs": [
    {
     "data": {
      "text/plain": [
       "<matplotlib.image.AxesImage at 0x7fd1da84b4a8>"
      ]
     },
     "execution_count": 146,
     "metadata": {},
     "output_type": "execute_result"
    },
    {
     "data": {
      "image/png": "[encoded data removed]",
      "text/plain": [
       "<Figure size 432x288 with 1 Axes>"
      ]
     },
     "metadata": {
      "needs_background": "light"
     },
     "output_type": "display_data"
    }
   ],
   "source": [
    "import matplotlib.pyplot as plt\n",
    "\n",
    "img = np.interp(img, (img.min(), img.max()), (0, 255))\n",
    "\n",
    "plt.imshow(img, cmap='gray')"
   ]
  },
  {
   "cell_type": "code",
   "execution_count": 134,
   "metadata": {},
   "outputs": [
    {
     "name": "stderr",
     "output_type": "stream",
     "text": [
      "/usr/local/lib/python3.5/dist-packages/ipykernel_launcher.py:22: ComplexWarning: Casting complex values to real discards the imaginary part\n"
     ]
    },
    {
     "data": {
      "text/plain": [
       "<matplotlib.image.AxesImage at 0x7fd1da988c50>"
      ]
     },
     "execution_count": 134,
     "metadata": {},
     "output_type": "execute_result"
    },
    {
     "data": {
      "image/png": "[encoded data removed]",
      "text/plain": [
       "<Figure size 432x288 with 1 Axes>"
      ]
     },
     "metadata": {
      "needs_background": "light"
     },
     "output_type": "display_data"
    }
   ],
   "source": [
    "fft =  np.real(np.fft.ifft2(img))\n",
    "fft = np.interp(fft, (fft.min(), fft.max()), (0, 255))\n",
    "\n",
    "kino = np.arctan(np.real(img) / (np.imag(img) + np.finfo(float).eps))\n",
    "#kino = np.interp(kino, (kino.min(), kino.max()), (0, 255))\n",
    "\n",
    "\n",
    "\n",
    "def impulse(p, z):\n",
    "    return np.exp(1.0j * (np.pi / (l * z)) * (p[0] ** 2 + p[1] ** 2))\n",
    "\n",
    "def recon(holo, z):\n",
    "    \n",
    "    imp = np.zeros((nx, ny))\n",
    "    #holo = np.pad(holo, ((nx // 4, nx // 4), (ny // 4, ny // 4)), 'constant')\n",
    "    holo = np.fft.fftshift(holo)\n",
    "    \n",
    "    for i in range(nx):\n",
    "        for j in range(ny):\n",
    "            ps = top_left + np.array([i * dx, -j * dy])\n",
    "            \n",
    "            imp[i, j] = impulse(ps, z)\n",
    "            \n",
    "    imp = np.fft.fftshift(imp)\n",
    "    holo = np.fft.ifft2(np.fft.fft2(holo) * np.fft.fft2(imp))\n",
    "    holo = np.fft.fftshift(holo)\n",
    "    \n",
    "    return holo * np.exp(1.0j * k * z) / (1.0j * l * z)\n",
    "\n",
    "re = recon(img, z * 1e-5)\n",
    "re = np.real(re)\n",
    "re = np.interp(re, (re.min(), re.max()), (0, 255))\n",
    "plt.imshow(re, cmap='gray')"
   ]
  },
  {
   "cell_type": "code",
   "execution_count": 19,
   "metadata": {},
   "outputs": [
    {
     "ename": "AttributeError",
     "evalue": "module 'numpy' has no attribute 'i'",
     "output_type": "error",
     "traceback": [
      "\u001b[0;31m---------------------------------------------------------------------------\u001b[0m",
      "\u001b[0;31mAttributeError\u001b[0m                            Traceback (most recent call last)",
      "\u001b[0;32m<ipython-input-19-305d1a56057c>\u001b[0m in \u001b[0;36m<module>\u001b[0;34m\u001b[0m\n\u001b[0;32m----> 1\u001b[0;31m \u001b[0mnp\u001b[0m\u001b[0;34m.\u001b[0m\u001b[0mi\u001b[0m\u001b[0;34m\u001b[0m\u001b[0m\n\u001b[0m",
      "\u001b[0;31mAttributeError\u001b[0m: module 'numpy' has no attribute 'i'"
     ]
    }
   ],
   "source": []
  },
  {
   "cell_type": "code",
   "execution_count": 131,
   "metadata": {},
   "outputs": [
    {
     "data": {
      "text/plain": [
       "array([-6.25e-05,  6.25e-05])"
      ]
     },
     "execution_count": 131,
     "metadata": {},
     "output_type": "execute_result"
    }
   ],
   "source": [
    "top_left"
   ]
  },
  {
   "cell_type": "code",
   "execution_count": 185,
   "metadata": {},
   "outputs": [
    {
     "data": {
      "text/plain": [
       "[array([-0.85103608, -0.18093279,  0.50704877]),\n",
       " array([ 0.32790518, -0.08891867,  0.0594833 ]),\n",
       " array([0.49987704, 0.81766584, 0.71443825]),\n",
       " array([ 0.1848264 , -0.08594826,  1.97900567]),\n",
       " array([-0.18079317,  0.83494184,  0.48020585]),\n",
       " array([ 0.42152378, -0.87861807,  1.22438358]),\n",
       " array([-0.69994172,  0.685085  ,  0.79815815]),\n",
       " array([0.20658791, 0.78438754, 1.58485693]),\n",
       " array([0.13963607, 0.66458537, 1.73404909]),\n",
       " array([-0.49291858,  0.30140664,  0.18379824]),\n",
       " array([0.19823344, 0.96915882, 0.85359411]),\n",
       " array([-0.73572261,  0.19105236,  1.64977784]),\n",
       " array([0.77146997, 0.40278435, 1.49254326]),\n",
       " array([0.7225215 , 0.53239274, 0.55895505]),\n",
       " array([0.66716288, 0.7443497 , 0.97106537]),\n",
       " array([-0.81158544,  0.16962472,  0.44093244]),\n",
       " array([-0.91197104, -0.32819334,  0.75383347]),\n",
       " array([0.46591831, 0.7199171 , 0.48556877]),\n",
       " array([-0.39048878,  0.87535869,  0.71492863]),\n",
       " array([ 0.89371673, -0.10323945,  1.43659137]),\n",
       " array([-0.03391414, -0.79079173,  1.61114505]),\n",
       " array([ 0.69881364, -0.55704818,  0.55127199]),\n",
       " array([ 0.16066071, -0.41626134,  0.10506166]),\n",
       " array([-0.84713889, -0.06419118,  0.47251995]),\n",
       " array([ 0.98506206, -0.11003391,  1.13245857]),\n",
       " array([-0.736783  , -0.6369175 ,  1.22690725]),\n",
       " array([-0.46434083, -0.64816299,  1.60354978]),\n",
       " array([0.5262558 , 0.53241555, 1.66301472]),\n",
       " array([-0.9164692 , -0.26597328,  0.70109796]),\n",
       " array([ 0.70598117, -0.58665749,  0.6032336 ]),\n",
       " array([0.19815817, 0.83660944, 1.51070342]),\n",
       " array([-0.14978886, -0.97670331,  1.1536683 ]),\n",
       " array([-0.10527419,  0.83231254,  0.45578205]),\n",
       " array([ 0.87418837, -0.27309153,  1.40151676]),\n",
       " array([ 0.12327187, -0.84574186,  0.48084227]),\n",
       " array([-0.82022971,  0.4991893 ,  1.27934434]),\n",
       " array([-0.12358234, -0.26435272,  0.04352468]),\n",
       " array([ 0.94353057, -0.30580688,  1.1274057 ]),\n",
       " array([ 0.7970014 , -0.56396033,  1.21618859]),\n",
       " array([ 0.28962612, -0.15987256,  0.05630647]),\n",
       " array([ 0.61527272, -0.28875497,  1.73352577]),\n",
       " array([-0.93981306, -0.23181895,  1.2510207 ]),\n",
       " array([-0.134728  ,  0.3826968 ,  1.91399755]),\n",
       " array([0.83117825, 0.23428947, 1.50423325]),\n",
       " array([-0.32790993, -0.61155342,  0.27994619]),\n",
       " array([-0.49004596,  0.15608061,  0.14239065]),\n",
       " array([-0.54223298,  0.83760013,  1.06640345]),\n",
       " array([-0.98664269,  0.15240539,  0.94247785]),\n",
       " array([-0.84528811,  0.33857515,  1.41334595]),\n",
       " array([-0.23920029, -0.93884537,  1.24769456]),\n",
       " array([ 0.59495471, -0.49739006,  0.36862688]),\n",
       " array([0.40630517, 0.23073088, 0.11587367]),\n",
       " array([0.87703694, 0.29819223, 0.62332028]),\n",
       " array([ 0.14848133, -0.97900285,  0.86033358]),\n",
       " array([0.39953722, 0.33958361, 1.85150043]),\n",
       " array([ 0.5887152 , -0.80644459,  1.05533111]),\n",
       " array([0.62803961, 0.49298123, 1.60210941]),\n",
       " array([ 0.7863928 , -0.43972326,  1.4338546 ]),\n",
       " array([-0.3848917 , -0.86041334,  1.33398693]),\n",
       " array([0.67929096, 0.01415231, 0.26626742]),\n",
       " array([-0.34877696,  0.83733718,  0.57902366]),\n",
       " array([0.21289883, 0.97631803, 0.96156572]),\n",
       " array([0.83276798, 0.39114719, 1.3917925 ]),\n",
       " array([0.67436967, 0.20245499, 1.71009685]),\n",
       " array([-0.7594876 ,  0.18874541,  1.62253816]),\n",
       " array([-0.9112008 , -0.31759555,  1.26238555]),\n",
       " array([0.69539406, 0.57305931, 1.43362441]),\n",
       " array([-0.56705381,  0.82365883,  0.99399018]),\n",
       " array([-0.36191324, -0.39132394,  1.84609951]),\n",
       " array([ 0.55576093, -0.83110569,  1.0198272 ]),\n",
       " array([0.7392231 , 0.61561372, 0.72692682]),\n",
       " array([-0.89022481,  0.04542782,  1.4532506 ]),\n",
       " array([0.67345566, 0.59442151, 1.43945482]),\n",
       " array([ 0.75390846, -0.20902251,  1.62284157]),\n",
       " array([-0.4720413 , -0.00180533,  0.11842542]),\n",
       " array([ 0.81297334, -0.05577755,  0.42037666]),\n",
       " array([-0.96144211, -0.03210875,  0.72687346]),\n",
       " array([ 0.81373914, -0.25745362,  0.47889901]),\n",
       " array([-0.10900284,  0.79469444,  0.40285753]),\n",
       " array([0.54594616, 0.6853475 , 1.48191451]),\n",
       " array([ 0.47516133, -0.03970061,  1.8790026 ]),\n",
       " array([ 0.21540527, -0.11619841,  1.96958677]),\n",
       " array([ 0.17734154, -0.51425532,  0.16089843]),\n",
       " array([-0.36659665,  0.92403415,  0.89152058]),\n",
       " array([0.86858079, 0.27919676, 1.40941003]),\n",
       " array([-0.96521176,  0.25355285,  1.06385309]),\n",
       " array([-0.56146078,  0.36643935,  1.74194608]),\n",
       " array([0.1040435 , 0.86751311, 0.51358869]),\n",
       " array([-0.07036283, -0.77650142,  0.37382541]),\n",
       " array([0.13325016, 0.40698869, 1.90366178]),\n",
       " array([0.80543017, 0.01359299, 0.40746521]),\n",
       " array([ 0.03029776, -0.14632076,  1.98877312]),\n",
       " array([0.19003285, 0.41094304, 0.1083648 ]),\n",
       " array([-0.98084471, -0.05568112,  0.81333647]),\n",
       " array([ 0.60401051, -0.73946365,  1.2972622 ]),\n",
       " array([0.27349818, 0.4721488 , 1.83801805]),\n",
       " array([-0.72877983,  0.25143746,  0.36308622]),\n",
       " array([-0.4946157 , -0.84269805,  1.21263891]),\n",
       " array([ 0.6575113 , -0.24171857,  1.71361826]),\n",
       " array([-0.77386709, -0.63303173,  1.02001412]),\n",
       " array([ 0.80586848, -0.38616588,  0.55116606]),\n",
       " array([ 0.62000274, -0.30361296,  0.27652521]),\n",
       " array([ 0.34938474, -0.21813471,  1.91123408]),\n",
       " array([-0.49373871,  0.62170206,  1.6080367 ]),\n",
       " array([-0.79580987,  0.56347424,  1.22177338]),\n",
       " array([0.83873433, 0.00123879, 0.45546057]),\n",
       " array([-0.81312532,  0.57293822,  0.89719427]),\n",
       " array([-0.57156645, -0.69339738,  0.56123827]),\n",
       " array([-0.37361947,  0.4935683 ,  0.21463459]),\n",
       " array([-0.29022751, -0.93801753,  0.81055053]),\n",
       " array([ 0.86858823, -0.16830623,  0.53392329]),\n",
       " array([-0.82752894, -0.29564491,  0.52272655]),\n",
       " array([ 0.71845833, -0.69463446,  1.03606367]),\n",
       " array([-0.29268936,  0.95617178,  1.00827506]),\n",
       " array([-0.25764557,  0.63796317,  0.27431291]),\n",
       " array([ 0.14113995, -0.56730055,  1.81132583]),\n",
       " array([-0.37126634, -0.34931136,  0.13968443]),\n",
       " array([-0.51595442, -0.49589191,  0.30151431]),\n",
       " array([0.7888416 , 0.43698672, 1.43217072]),\n",
       " array([-0.4546601 , -0.16714624,  0.12515926]),\n",
       " array([-0.7797706 , -0.61131649,  0.86490759]),\n",
       " array([0.87029871, 0.0409159 , 0.50917819]),\n",
       " array([-0.87771837,  0.176349  ,  0.55445371]),\n",
       " array([ 0.54563454, -0.76630037,  0.66078518]),\n",
       " array([ 0.30179165, -0.90070879,  0.68751723]),\n",
       " array([0.01931073, 0.78062001, 0.37529247]),\n",
       " array([0.38212805, 0.66966086, 1.63681433]),\n",
       " array([-0.82879808,  0.41845143,  1.37147294]),\n",
       " array([-0.79764589, -0.59045239,  1.12299187]),\n",
       " array([0.59545434, 0.54496324, 1.59029585]),\n",
       " array([0.6525918 , 0.5010788 , 1.56836958]),\n",
       " array([-0.94899008, -0.10966821,  0.70438081]),\n",
       " array([ 0.70256034, -0.55664799,  1.44334184]),\n",
       " array([0.92170736, 0.3878747 , 1.00295807]),\n",
       " array([ 0.22005658, -0.84676165,  0.51567593]),\n",
       " array([0.37996187, 0.71452355, 1.58743942]),\n",
       " array([ 0.2828987 , -0.83683323,  1.46869871]),\n",
       " array([-0.04009543, -0.99127204,  0.87441296]),\n",
       " array([-0.15323716, -0.6917846 ,  1.70565745]),\n",
       " array([ 0.73395675, -0.07890858,  1.67459686]),\n",
       " array([ 0.5177026 , -0.47395399,  0.2877138 ]),\n",
       " array([0.76306949, 0.01570686, 0.35387443]),\n",
       " array([-0.45954843, -0.53756069,  0.29300371]),\n",
       " array([0.02097425, 0.8915179 , 1.45249964]),\n",
       " array([ 0.04014411, -0.95977531,  0.72211549]),\n",
       " array([ 0.00470967, -0.53127981,  1.84718332]),\n",
       " array([ 0.26391048, -0.79728527,  1.54285122]),\n",
       " array([-0.80024561,  0.26395692,  0.46154508]),\n",
       " array([ 0.44494925, -0.76844968,  1.45989702]),\n",
       " array([0.30665794, 0.76717569, 0.43661525]),\n",
       " array([ 0.42633002, -0.44333661,  0.21152339]),\n",
       " array([-0.3063644 , -0.92934182,  1.20606948]),\n",
       " array([ 0.71274207, -0.25977208,  0.34845015]),\n",
       " array([0.27070693, 0.80973322, 1.5206245 ]),\n",
       " array([ 0.28169949, -0.31449305,  1.90649849]),\n",
       " array([-0.76156459, -0.51235189,  0.60311851]),\n",
       " array([-0.46005857, -0.88760863,  0.97770565]),\n",
       " array([0.9835742 , 0.11815597, 0.86354134]),\n",
       " array([-0.41355216, -0.7995396 ,  1.43555831]),\n",
       " array([-0.73159328, -0.67105891,  0.87978678]),\n",
       " array([-0.06426763, -0.25709147,  1.96424771]),\n",
       " array([ 0.55087857, -0.77412964,  1.31185909]),\n",
       " array([0.44565289, 0.59294609, 0.32932241]),\n",
       " array([-0.26972022, -0.51219476,  0.18458138]),\n",
       " array([0.72328465, 0.54722979, 0.57881256]),\n",
       " array([-0.14046935, -0.56963087,  1.80980802]),\n",
       " array([-0.02337905, -0.31507945,  0.0512227 ]),\n",
       " array([-0.76743287,  0.08304532,  1.63572813]),\n",
       " array([-0.56241136, -0.27816991,  0.22133771]),\n",
       " array([0.12918516, 0.96176097, 0.7584901 ]),\n",
       " array([ 0.82597773, -0.56342834,  1.0175867 ]),\n",
       " array([ 0.18777304, -0.80821708,  1.55814554]),\n",
       " array([-0.50873746, -0.85902859,  1.05706214]),\n",
       " array([ 0.60606251, -0.74113728,  1.2887971 ]),\n",
       " array([-0.12966353, -0.58372379,  1.80153222]),\n",
       " array([ 0.76939633, -0.57876226,  1.27030267]),\n",
       " array([-0.68199322,  0.64742142,  0.65980777]),\n",
       " array([-0.24438636,  0.35240414,  0.09662487]),\n",
       " array([-0.99225144, -0.04536534,  1.11566795]),\n",
       " array([ 0.09344627, -0.77870375,  0.37960636]),\n",
       " array([ 0.57246293, -0.15952742,  1.8042619 ]),\n",
       " array([-0.14836505, -0.98424157,  1.09620993]),\n",
       " array([ 0.02827689, -0.809174  ,  1.58688828]),\n",
       " array([-0.92439511, -0.36061342,  1.12430461]),\n",
       " array([ 0.08371277, -0.34341872,  1.93544415]),\n",
       " array([-0.39432275, -0.26255456,  0.11933283]),\n",
       " array([-0.15166555,  0.32246647,  0.06564839]),\n",
       " array([0.60510055, 0.74987383, 1.26747442]),\n",
       " array([0.24916946, 0.96490066, 0.91704644]),\n",
       " array([-0.98352102, -0.17845801,  0.97103202]),\n",
       " array([-0.46322292,  0.86974462,  0.82979771]),\n",
       " array([-0.38607663, -0.73697787,  0.44519512]),\n",
       " array([ 0.21558235, -0.93476673,  1.28237461]),\n",
       " array([ 0.90609653, -0.27522071,  1.32131394]),\n",
       " array([-0.03281359,  0.51868887,  0.14566685]),\n",
       " array([0.36447581, 0.24115275, 1.89944579]),\n",
       " array([-0.16425659, -0.15349325,  1.97440217]),\n",
       " array([-0.58774356, -0.64648693,  0.51357205]),\n",
       " array([-0.09656738, -0.99323092,  1.06455288]),\n",
       " array([0.29741625, 0.03357611, 0.04584267])]"
      ]
     },
     "execution_count": 185,
     "metadata": {},
     "output_type": "execute_result"
    }
   ],
   "source": [
    "sphere_samples"
   ]
  },
  {
   "cell_type": "code",
   "execution_count": null,
   "metadata": {},
   "outputs": [],
   "source": []
  }
 ],
 "metadata": {
  "kernelspec": {
   "display_name": "Python 3",
   "language": "python",
   "name": "python3"
  },
  "language_info": {
   "codemirror_mode": {
    "name": "ipython",
    "version": 3
   },
   "file_extension": ".py",
   "mimetype": "text/x-python",
   "name": "python",
   "nbconvert_exporter": "python",
   "pygments_lexer": "ipython3",
   "version": "3.5.3"
  }
 },
 "nbformat": 4,
 "nbformat_minor": 2
}
